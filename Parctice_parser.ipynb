{
 "cells": [
  {
   "cell_type": "code",
   "execution_count": 1279,
   "metadata": {},
   "outputs": [],
   "source": [
    "import os\n",
    "import numpy as nm\n",
    "import numpy as np\n",
    "import pandas as pd\n",
    "import matplotlib.pyplot as plt\n",
    "from datetime import datetime as dt\n",
    "import seaborn as sns\n",
    "color_pal = sns.color_palette\n",
    "#import pd.read_csv\n",
    "os.getcwd()\n",
    "import numpy as np\n",
    "import xgboost as xgb\n",
    "from xgboost import XGBRegressor\n",
    "from sklearn.ensemble import RandomForestRegressor\n",
    "from sklearn.linear_model import LinearRegression\n",
    "from sklearn.preprocessing import MinMaxScaler\n",
    "from sklearn.metrics import mean_absolute_error,mean_squared_error,r2_score \n",
    "from sklearn.utils import resample\n",
    "import tensorflow.keras\n",
    "import tensorflow as tf\n",
    "from tensorflow.keras.models import load_model\n",
    "#model = load_model('trained_model.h5')\n",
    "#from tensorflow.keras.models import Sequential\n",
    "#from tensorflow.keras.layers import Dense, LSTM"
   ]
  },
  {
   "cell_type": "code",
   "execution_count": 1289,
   "metadata": {},
   "outputs": [
    {
     "data": {
      "text/html": [
       "<div>\n",
       "<style scoped>\n",
       "    .dataframe tbody tr th:only-of-type {\n",
       "        vertical-align: middle;\n",
       "    }\n",
       "\n",
       "    .dataframe tbody tr th {\n",
       "        vertical-align: top;\n",
       "    }\n",
       "\n",
       "    .dataframe thead th {\n",
       "        text-align: right;\n",
       "    }\n",
       "</style>\n",
       "<table border=\"1\" class=\"dataframe\">\n",
       "  <thead>\n",
       "    <tr style=\"text-align: right;\">\n",
       "      <th></th>\n",
       "      <th>Week</th>\n",
       "      <th>Monday</th>\n",
       "      <th>Tuesday</th>\n",
       "      <th>Wednesday</th>\n",
       "      <th>Thursday</th>\n",
       "      <th>Friday</th>\n",
       "      <th>Saturday</th>\n",
       "      <th>Sunday</th>\n",
       "      <th>Week Total</th>\n",
       "    </tr>\n",
       "  </thead>\n",
       "  <tbody>\n",
       "    <tr>\n",
       "      <th>1</th>\n",
       "      <td>12/5/22 - 12/11/22</td>\n",
       "      <td>81.0</td>\n",
       "      <td>0.0</td>\n",
       "      <td>1,771.85</td>\n",
       "      <td>1,066.80</td>\n",
       "      <td>2,949.55</td>\n",
       "      <td>5,864.90</td>\n",
       "      <td>2,703.00</td>\n",
       "      <td>14,437.10</td>\n",
       "    </tr>\n",
       "    <tr>\n",
       "      <th>2</th>\n",
       "      <td>12/12/22 - 12/18/22</td>\n",
       "      <td>0.0</td>\n",
       "      <td>0.0</td>\n",
       "      <td>2,064.17</td>\n",
       "      <td>623.00</td>\n",
       "      <td>3,131.00</td>\n",
       "      <td>3,596.00</td>\n",
       "      <td>2,293.00</td>\n",
       "      <td>11,707.17</td>\n",
       "    </tr>\n",
       "    <tr>\n",
       "      <th>3</th>\n",
       "      <td>12/19/22 - 12/25/22</td>\n",
       "      <td>0.0</td>\n",
       "      <td>0.0</td>\n",
       "      <td>2,072.00</td>\n",
       "      <td>2,598.60</td>\n",
       "      <td>2,566.20</td>\n",
       "      <td>3,012.10</td>\n",
       "      <td>103.00</td>\n",
       "      <td>10,351.90</td>\n",
       "    </tr>\n",
       "    <tr>\n",
       "      <th>4</th>\n",
       "      <td>12/26/22 - 1/1/23</td>\n",
       "      <td>0.0</td>\n",
       "      <td>0.0</td>\n",
       "      <td>2,357.25</td>\n",
       "      <td>2,522.23</td>\n",
       "      <td>3,353.35</td>\n",
       "      <td>6,113.15</td>\n",
       "      <td>0.00</td>\n",
       "      <td>14,345.98</td>\n",
       "    </tr>\n",
       "  </tbody>\n",
       "</table>\n",
       "</div>"
      ],
      "text/plain": [
       "                  Week  Monday  Tuesday Wednesday  Thursday    Friday  \\\n",
       "1   12/5/22 - 12/11/22    81.0      0.0  1,771.85  1,066.80  2,949.55   \n",
       "2  12/12/22 - 12/18/22     0.0      0.0  2,064.17    623.00  3,131.00   \n",
       "3  12/19/22 - 12/25/22     0.0      0.0  2,072.00  2,598.60  2,566.20   \n",
       "4    12/26/22 - 1/1/23     0.0      0.0  2,357.25  2,522.23  3,353.35   \n",
       "\n",
       "   Saturday    Sunday Week Total  \n",
       "1  5,864.90  2,703.00  14,437.10  \n",
       "2  3,596.00  2,293.00  11,707.17  \n",
       "3  3,012.10    103.00  10,351.90  \n",
       "4  6,113.15      0.00  14,345.98  "
      ]
     },
     "execution_count": 1289,
     "metadata": {},
     "output_type": "execute_result"
    }
   ],
   "source": [
    "d_parser = lambda x: pd.datetime.strptime(x,'%m/%d/%y''%m/%d/%y')\n",
    "liora = pd.read_csv('/Users/davidpegoli/Desktop/weekly-sales-Liora-Baltimore-2022_12_01-2022_12_31.csv')\n",
    "date_parser=lambda x:datetime_strptime(x,'%m/%d/%y''%m/%d/%y')\n",
    "liora =liora.drop([0,5,6,7])\n",
    "liora\n",
    "#liora = liora.set_index('week')\n",
    "#liora.index = pd.to_datetime(liora.index)\n"
   ]
  },
  {
   "cell_type": "code",
   "execution_count": 1291,
   "metadata": {},
   "outputs": [
    {
     "name": "stdout",
     "output_type": "stream",
     "text": [
      "object\n"
     ]
    }
   ],
   "source": [
    "liora1=liora\n",
    "#liora[\"Week\"] = pd.to_datetime(liora[\"Week\"], format='%m/%d/%y %m/%d/%y')\n",
    "#\n",
    "print(liora1['Week'].dtype)"
   ]
  },
  {
   "cell_type": "code",
   "execution_count": 1292,
   "metadata": {},
   "outputs": [],
   "source": [
    "liora1[\"Week\"] = liora1[\"Week\"].str.split(' ').str[0]\n",
    "liora1[\"Week\"] = pd.to_datetime(liora1[\"Week\"], format='%m/%d/%y')"
   ]
  },
  {
   "cell_type": "code",
   "execution_count": 1293,
   "metadata": {},
   "outputs": [],
   "source": [
    "liora['Wednesday']=liora['Wednesday'].str.replace('[\\$\\,]','',regex=True).astype(float)"
   ]
  },
  {
   "cell_type": "code",
   "execution_count": 1298,
   "metadata": {},
   "outputs": [
    {
     "data": {
      "text/plain": [
       "Week          datetime64[ns]\n",
       "Monday               float64\n",
       "Tuesday              float64\n",
       "Wednesday            float64\n",
       "Thursday             float64\n",
       "Friday               float64\n",
       "Saturday             float64\n",
       "Sunday               float64\n",
       "Week Total           float64\n",
       "dtype: object"
      ]
     },
     "execution_count": 1298,
     "metadata": {},
     "output_type": "execute_result"
    }
   ],
   "source": [
    "liora.dtypes"
   ]
  },
  {
   "cell_type": "code",
   "execution_count": 1295,
   "metadata": {},
   "outputs": [],
   "source": [
    "liora[['Thursday','Friday','Saturday','Sunday','Week Total']]=liora[['Thursday','Friday','Saturday','Sunday','Week Total']].replace('[\\$\\,]','',regex=True).astype(float)"
   ]
  },
  {
   "cell_type": "code",
   "execution_count": 1296,
   "metadata": {},
   "outputs": [
    {
     "data": {
      "text/plain": [
       "Week          datetime64[ns]\n",
       "Monday               float64\n",
       "Tuesday              float64\n",
       "Wednesday            float64\n",
       "Thursday             float64\n",
       "Friday               float64\n",
       "Saturday             float64\n",
       "Sunday               float64\n",
       "Week Total           float64\n",
       "dtype: object"
      ]
     },
     "execution_count": 1296,
     "metadata": {},
     "output_type": "execute_result"
    }
   ],
   "source": [
    "liora.dtypes"
   ]
  },
  {
   "cell_type": "code",
   "execution_count": 1299,
   "metadata": {},
   "outputs": [
    {
     "data": {
      "text/html": [
       "<div>\n",
       "<style scoped>\n",
       "    .dataframe tbody tr th:only-of-type {\n",
       "        vertical-align: middle;\n",
       "    }\n",
       "\n",
       "    .dataframe tbody tr th {\n",
       "        vertical-align: top;\n",
       "    }\n",
       "\n",
       "    .dataframe thead th {\n",
       "        text-align: right;\n",
       "    }\n",
       "</style>\n",
       "<table border=\"1\" class=\"dataframe\">\n",
       "  <thead>\n",
       "    <tr style=\"text-align: right;\">\n",
       "      <th></th>\n",
       "      <th>Week</th>\n",
       "      <th>Monday</th>\n",
       "      <th>Tuesday</th>\n",
       "      <th>Wednesday</th>\n",
       "      <th>Thursday</th>\n",
       "      <th>Friday</th>\n",
       "      <th>Saturday</th>\n",
       "      <th>Sunday</th>\n",
       "      <th>Week Total</th>\n",
       "    </tr>\n",
       "  </thead>\n",
       "  <tbody>\n",
       "    <tr>\n",
       "      <th>1</th>\n",
       "      <td>2022-12-05</td>\n",
       "      <td>81.0</td>\n",
       "      <td>0.0</td>\n",
       "      <td>1771.85</td>\n",
       "      <td>1066.80</td>\n",
       "      <td>2949.55</td>\n",
       "      <td>5864.90</td>\n",
       "      <td>2703.0</td>\n",
       "      <td>14437.10</td>\n",
       "    </tr>\n",
       "    <tr>\n",
       "      <th>2</th>\n",
       "      <td>2022-12-12</td>\n",
       "      <td>0.0</td>\n",
       "      <td>0.0</td>\n",
       "      <td>2064.17</td>\n",
       "      <td>623.00</td>\n",
       "      <td>3131.00</td>\n",
       "      <td>3596.00</td>\n",
       "      <td>2293.0</td>\n",
       "      <td>11707.17</td>\n",
       "    </tr>\n",
       "    <tr>\n",
       "      <th>3</th>\n",
       "      <td>2022-12-19</td>\n",
       "      <td>0.0</td>\n",
       "      <td>0.0</td>\n",
       "      <td>2072.00</td>\n",
       "      <td>2598.60</td>\n",
       "      <td>2566.20</td>\n",
       "      <td>3012.10</td>\n",
       "      <td>103.0</td>\n",
       "      <td>10351.90</td>\n",
       "    </tr>\n",
       "    <tr>\n",
       "      <th>4</th>\n",
       "      <td>2022-12-26</td>\n",
       "      <td>0.0</td>\n",
       "      <td>0.0</td>\n",
       "      <td>2357.25</td>\n",
       "      <td>2522.23</td>\n",
       "      <td>3353.35</td>\n",
       "      <td>6113.15</td>\n",
       "      <td>0.0</td>\n",
       "      <td>14345.98</td>\n",
       "    </tr>\n",
       "  </tbody>\n",
       "</table>\n",
       "</div>"
      ],
      "text/plain": [
       "        Week  Monday  Tuesday  Wednesday  Thursday   Friday  Saturday  Sunday  \\\n",
       "1 2022-12-05    81.0      0.0    1771.85   1066.80  2949.55   5864.90  2703.0   \n",
       "2 2022-12-12     0.0      0.0    2064.17    623.00  3131.00   3596.00  2293.0   \n",
       "3 2022-12-19     0.0      0.0    2072.00   2598.60  2566.20   3012.10   103.0   \n",
       "4 2022-12-26     0.0      0.0    2357.25   2522.23  3353.35   6113.15     0.0   \n",
       "\n",
       "   Week Total  \n",
       "1    14437.10  \n",
       "2    11707.17  \n",
       "3    10351.90  \n",
       "4    14345.98  "
      ]
     },
     "execution_count": 1299,
     "metadata": {},
     "output_type": "execute_result"
    }
   ],
   "source": [
    "liora1"
   ]
  },
  {
   "cell_type": "code",
   "execution_count": 1287,
   "metadata": {},
   "outputs": [
    {
     "ename": "AttributeError",
     "evalue": "Can only use .str accessor with string values!",
     "output_type": "error",
     "traceback": [
      "\u001b[0;31m---------------------------------------------------------------------------\u001b[0m",
      "\u001b[0;31mAttributeError\u001b[0m                            Traceback (most recent call last)",
      "Cell \u001b[0;32mIn[1287], line 12\u001b[0m\n\u001b[1;32m      1\u001b[0m \u001b[39m#liora['Week'] = pd.to_datetime(liora['Week'].astype(str),errors='coerce')\u001b[39;00m\n\u001b[1;32m      2\u001b[0m \u001b[39m#liora1[\"Week\"] = pd.to_datetime(liora[\"Week\"], format='%m/%d/%y %m/%d/%y')\u001b[39;00m\n\u001b[1;32m      3\u001b[0m \u001b[39m#liora['Week'] = pd.to_datetime(liora['Week'], format='%m/%d/%y')\u001b[39;00m\n\u001b[0;32m   (...)\u001b[0m\n\u001b[1;32m     10\u001b[0m \u001b[39m#print(liora[\"Day\"].head())\u001b[39;00m\n\u001b[1;32m     11\u001b[0m \u001b[39m###best one to use with - in the middle as string ........\u001b[39;00m\n\u001b[0;32m---> 12\u001b[0m liora1[\u001b[39m\"\u001b[39m\u001b[39mWeek\u001b[39m\u001b[39m\"\u001b[39m] \u001b[39m=\u001b[39m liora1[\u001b[39m\"\u001b[39m\u001b[39mWeek\u001b[39m\u001b[39m\"\u001b[39m]\u001b[39m.\u001b[39mstr\u001b[39m.\u001b[39msplit(\u001b[39m'\u001b[39m\u001b[39m \u001b[39m\u001b[39m'\u001b[39m)\u001b[39m.\u001b[39mstr[\u001b[39m0\u001b[39m]\n\u001b[1;32m     13\u001b[0m liora1[\u001b[39m\"\u001b[39m\u001b[39mWeek\u001b[39m\u001b[39m\"\u001b[39m] \u001b[39m=\u001b[39m pd\u001b[39m.\u001b[39mto_datetime(liora1[\u001b[39m\"\u001b[39m\u001b[39mWeek\u001b[39m\u001b[39m\"\u001b[39m], \u001b[39mformat\u001b[39m\u001b[39m=\u001b[39m\u001b[39m'\u001b[39m\u001b[39m%\u001b[39m\u001b[39mm/\u001b[39m\u001b[39m%d\u001b[39;00m\u001b[39m/\u001b[39m\u001b[39m%\u001b[39m\u001b[39my\u001b[39m\u001b[39m'\u001b[39m)\n\u001b[1;32m     15\u001b[0m liora1\u001b[39m.\u001b[39mdtypes\n",
      "File \u001b[0;32m~/miniforge3/envs/tensorflow/lib/python3.9/site-packages/pandas/core/generic.py:5902\u001b[0m, in \u001b[0;36mNDFrame.__getattr__\u001b[0;34m(self, name)\u001b[0m\n\u001b[1;32m   5895\u001b[0m \u001b[39mif\u001b[39;00m (\n\u001b[1;32m   5896\u001b[0m     name \u001b[39mnot\u001b[39;00m \u001b[39min\u001b[39;00m \u001b[39mself\u001b[39m\u001b[39m.\u001b[39m_internal_names_set\n\u001b[1;32m   5897\u001b[0m     \u001b[39mand\u001b[39;00m name \u001b[39mnot\u001b[39;00m \u001b[39min\u001b[39;00m \u001b[39mself\u001b[39m\u001b[39m.\u001b[39m_metadata\n\u001b[1;32m   5898\u001b[0m     \u001b[39mand\u001b[39;00m name \u001b[39mnot\u001b[39;00m \u001b[39min\u001b[39;00m \u001b[39mself\u001b[39m\u001b[39m.\u001b[39m_accessors\n\u001b[1;32m   5899\u001b[0m     \u001b[39mand\u001b[39;00m \u001b[39mself\u001b[39m\u001b[39m.\u001b[39m_info_axis\u001b[39m.\u001b[39m_can_hold_identifiers_and_holds_name(name)\n\u001b[1;32m   5900\u001b[0m ):\n\u001b[1;32m   5901\u001b[0m     \u001b[39mreturn\u001b[39;00m \u001b[39mself\u001b[39m[name]\n\u001b[0;32m-> 5902\u001b[0m \u001b[39mreturn\u001b[39;00m \u001b[39mobject\u001b[39;49m\u001b[39m.\u001b[39;49m\u001b[39m__getattribute__\u001b[39;49m(\u001b[39mself\u001b[39;49m, name)\n",
      "File \u001b[0;32m~/miniforge3/envs/tensorflow/lib/python3.9/site-packages/pandas/core/accessor.py:182\u001b[0m, in \u001b[0;36mCachedAccessor.__get__\u001b[0;34m(self, obj, cls)\u001b[0m\n\u001b[1;32m    179\u001b[0m \u001b[39mif\u001b[39;00m obj \u001b[39mis\u001b[39;00m \u001b[39mNone\u001b[39;00m:\n\u001b[1;32m    180\u001b[0m     \u001b[39m# we're accessing the attribute of the class, i.e., Dataset.geo\u001b[39;00m\n\u001b[1;32m    181\u001b[0m     \u001b[39mreturn\u001b[39;00m \u001b[39mself\u001b[39m\u001b[39m.\u001b[39m_accessor\n\u001b[0;32m--> 182\u001b[0m accessor_obj \u001b[39m=\u001b[39m \u001b[39mself\u001b[39;49m\u001b[39m.\u001b[39;49m_accessor(obj)\n\u001b[1;32m    183\u001b[0m \u001b[39m# Replace the property with the accessor object. Inspired by:\u001b[39;00m\n\u001b[1;32m    184\u001b[0m \u001b[39m# https://www.pydanny.com/cached-property.html\u001b[39;00m\n\u001b[1;32m    185\u001b[0m \u001b[39m# We need to use object.__setattr__ because we overwrite __setattr__ on\u001b[39;00m\n\u001b[1;32m    186\u001b[0m \u001b[39m# NDFrame\u001b[39;00m\n\u001b[1;32m    187\u001b[0m \u001b[39mobject\u001b[39m\u001b[39m.\u001b[39m\u001b[39m__setattr__\u001b[39m(obj, \u001b[39mself\u001b[39m\u001b[39m.\u001b[39m_name, accessor_obj)\n",
      "File \u001b[0;32m~/miniforge3/envs/tensorflow/lib/python3.9/site-packages/pandas/core/strings/accessor.py:181\u001b[0m, in \u001b[0;36mStringMethods.__init__\u001b[0;34m(self, data)\u001b[0m\n\u001b[1;32m    178\u001b[0m \u001b[39mdef\u001b[39;00m \u001b[39m__init__\u001b[39m(\u001b[39mself\u001b[39m, data) \u001b[39m-\u001b[39m\u001b[39m>\u001b[39m \u001b[39mNone\u001b[39;00m:\n\u001b[1;32m    179\u001b[0m     \u001b[39mfrom\u001b[39;00m \u001b[39mpandas\u001b[39;00m\u001b[39m.\u001b[39;00m\u001b[39mcore\u001b[39;00m\u001b[39m.\u001b[39;00m\u001b[39marrays\u001b[39;00m\u001b[39m.\u001b[39;00m\u001b[39mstring_\u001b[39;00m \u001b[39mimport\u001b[39;00m StringDtype\n\u001b[0;32m--> 181\u001b[0m     \u001b[39mself\u001b[39m\u001b[39m.\u001b[39m_inferred_dtype \u001b[39m=\u001b[39m \u001b[39mself\u001b[39;49m\u001b[39m.\u001b[39;49m_validate(data)\n\u001b[1;32m    182\u001b[0m     \u001b[39mself\u001b[39m\u001b[39m.\u001b[39m_is_categorical \u001b[39m=\u001b[39m is_categorical_dtype(data\u001b[39m.\u001b[39mdtype)\n\u001b[1;32m    183\u001b[0m     \u001b[39mself\u001b[39m\u001b[39m.\u001b[39m_is_string \u001b[39m=\u001b[39m \u001b[39misinstance\u001b[39m(data\u001b[39m.\u001b[39mdtype, StringDtype)\n",
      "File \u001b[0;32m~/miniforge3/envs/tensorflow/lib/python3.9/site-packages/pandas/core/strings/accessor.py:235\u001b[0m, in \u001b[0;36mStringMethods._validate\u001b[0;34m(data)\u001b[0m\n\u001b[1;32m    232\u001b[0m inferred_dtype \u001b[39m=\u001b[39m lib\u001b[39m.\u001b[39minfer_dtype(values, skipna\u001b[39m=\u001b[39m\u001b[39mTrue\u001b[39;00m)\n\u001b[1;32m    234\u001b[0m \u001b[39mif\u001b[39;00m inferred_dtype \u001b[39mnot\u001b[39;00m \u001b[39min\u001b[39;00m allowed_types:\n\u001b[0;32m--> 235\u001b[0m     \u001b[39mraise\u001b[39;00m \u001b[39mAttributeError\u001b[39;00m(\u001b[39m\"\u001b[39m\u001b[39mCan only use .str accessor with string values!\u001b[39m\u001b[39m\"\u001b[39m)\n\u001b[1;32m    236\u001b[0m \u001b[39mreturn\u001b[39;00m inferred_dtype\n",
      "\u001b[0;31mAttributeError\u001b[0m: Can only use .str accessor with string values!"
     ]
    }
   ],
   "source": [
    "#liora['Week'] = pd.to_datetime(liora['Week'].astype(str),errors='coerce')\n",
    "#liora1[\"Week\"] = pd.to_datetime(liora[\"Week\"], format='%m/%d/%y %m/%d/%y')\n",
    "#liora['Week'] = pd.to_datetime(liora['Week'], format='%m/%d/%y')\n",
    "\n",
    "#liora['Week']=liora['Week'].apply(lambda x :pd.datetime.strptime(x,'%m/%d/%y' '%m/%d/%y'))\n",
    "#liora['Week'] = pd.to_datetime(liora['Week'])\n",
    "#liora['Week'] = pd.datetime.strptime(liora['Week'],format='%m/%d/%y' '%m/%d/%y')\n",
    "#liora1[\"Week\"] = liora1[\"Week\"].str.split(' ').srt[0]\n",
    "#liora1[\"Week\"] = pd.to_datetime(liora1[\"Week\"], format='%m/%d/%y')\n",
    "#print(liora[\"Day\"].head())\n",
    "###best one to use with - in the middle as string ........\n",
    "liora1[\"Week\"] = liora1[\"Week\"].str.split(' ').str[0]\n",
    "liora1[\"Week\"] = pd.to_datetime(liora1[\"Week\"], format='%m/%d/%y')\n",
    "\n",
    "liora1.dtypes"
   ]
  },
  {
   "cell_type": "code",
   "execution_count": null,
   "metadata": {},
   "outputs": [],
   "source": [
    "#liora1 = liora.select_dytpes(include=['datetime'])\n",
    "#liora[u.Week]=liora2.fillna(pd.to_datetime(\"\"))"
   ]
  },
  {
   "attachments": {},
   "cell_type": "markdown",
   "metadata": {},
   "source": [
    "#converting date to week period and then sum the number of each week "
   ]
  },
  {
   "cell_type": "code",
   "execution_count": null,
   "metadata": {},
   "outputs": [],
   "source": [
    "\n",
    "liora1['Week'] = liora1['Week'].dt.to_period(\"w\")\n",
    "weekly_liora = liora.groupby('Week').sum().reset_index()\n",
    "\n"
   ]
  },
  {
   "attachments": {},
   "cell_type": "markdown",
   "metadata": {},
   "source": [
    "#converting the result date column to timestamp datatype "
   ]
  },
  {
   "cell_type": "code",
   "execution_count": 1297,
   "metadata": {},
   "outputs": [
    {
     "ename": "AttributeError",
     "evalue": "'DatetimeProperties' object has no attribute 'to_timestamp'",
     "output_type": "error",
     "traceback": [
      "\u001b[0;31m---------------------------------------------------------------------------\u001b[0m",
      "\u001b[0;31mAttributeError\u001b[0m                            Traceback (most recent call last)",
      "Cell \u001b[0;32mIn[1297], line 1\u001b[0m\n\u001b[0;32m----> 1\u001b[0m weekly_liora[\u001b[39m'\u001b[39m\u001b[39mWeek\u001b[39m\u001b[39m'\u001b[39m] \u001b[39m=\u001b[39m weekly_liora[\u001b[39m'\u001b[39m\u001b[39mWeek\u001b[39m\u001b[39m'\u001b[39m]\u001b[39m.\u001b[39mdt\u001b[39m.\u001b[39mto_timestamp()\n\u001b[1;32m      2\u001b[0m weekly_liora\u001b[39m.\u001b[39mhead()\n",
      "\u001b[0;31mAttributeError\u001b[0m: 'DatetimeProperties' object has no attribute 'to_timestamp'"
     ]
    }
   ],
   "source": [
    "weekly_liora['Week'] = weekly_liora['Week'].dt.to_timestamp()\n",
    "weekly_liora.head()"
   ]
  },
  {
   "cell_type": "code",
   "execution_count": null,
   "metadata": {},
   "outputs": [],
   "source": []
  },
  {
   "cell_type": "code",
   "execution_count": null,
   "metadata": {},
   "outputs": [
    {
     "data": {
      "image/png": "[encoded data removed]",
      "text/plain": [
       "<Figure size 1000x500 with 1 Axes>"
      ]
     },
     "metadata": {},
     "output_type": "display_data"
    }
   ],
   "source": [
    "plt.figure(figsize=(10,5))\n",
    "plt.plot(weekly_liora['Week'],weekly_liora['Week Total'])\n",
    "plt.xlabel('Week')\n",
    "plt.ylabel('Week Total')\n",
    "plt.title(\"Weekly Brakedown\")\n",
    "plt.show()"
   ]
  },
  {
   "cell_type": "code",
   "execution_count": null,
   "metadata": {},
   "outputs": [
    {
     "data": {
      "text/html": [
       "<div>\n",
       "<style scoped>\n",
       "    .dataframe tbody tr th:only-of-type {\n",
       "        vertical-align: middle;\n",
       "    }\n",
       "\n",
       "    .dataframe tbody tr th {\n",
       "        vertical-align: top;\n",
       "    }\n",
       "\n",
       "    .dataframe thead th {\n",
       "        text-align: right;\n",
       "    }\n",
       "</style>\n",
       "<table border=\"1\" class=\"dataframe\">\n",
       "  <thead>\n",
       "    <tr style=\"text-align: right;\">\n",
       "      <th></th>\n",
       "      <th>Week</th>\n",
       "      <th>Monday</th>\n",
       "      <th>Tuesday</th>\n",
       "      <th>Wednesday</th>\n",
       "      <th>Thursday</th>\n",
       "      <th>Friday</th>\n",
       "      <th>Saturday</th>\n",
       "      <th>Sunday</th>\n",
       "      <th>Week Total</th>\n",
       "      <th>sales_diff</th>\n",
       "    </tr>\n",
       "  </thead>\n",
       "  <tbody>\n",
       "    <tr>\n",
       "      <th>2</th>\n",
       "      <td>2022-12-19</td>\n",
       "      <td>0.0</td>\n",
       "      <td>0.0</td>\n",
       "      <td>2072.00</td>\n",
       "      <td>2598.60</td>\n",
       "      <td>2566.20</td>\n",
       "      <td>3012.10</td>\n",
       "      <td>103.0</td>\n",
       "      <td>10351.90</td>\n",
       "      <td>-1355.27</td>\n",
       "    </tr>\n",
       "    <tr>\n",
       "      <th>3</th>\n",
       "      <td>2022-12-26</td>\n",
       "      <td>0.0</td>\n",
       "      <td>0.0</td>\n",
       "      <td>2357.25</td>\n",
       "      <td>2522.23</td>\n",
       "      <td>3353.35</td>\n",
       "      <td>6113.15</td>\n",
       "      <td>0.0</td>\n",
       "      <td>14345.98</td>\n",
       "      <td>3994.08</td>\n",
       "    </tr>\n",
       "  </tbody>\n",
       "</table>\n",
       "</div>"
      ],
      "text/plain": [
       "        Week  Monday  Tuesday  Wednesday  Thursday   Friday  Saturday  Sunday  \\\n",
       "2 2022-12-19     0.0      0.0    2072.00   2598.60  2566.20   3012.10   103.0   \n",
       "3 2022-12-26     0.0      0.0    2357.25   2522.23  3353.35   6113.15     0.0   \n",
       "\n",
       "   Week Total  sales_diff  \n",
       "2    10351.90    -1355.27  \n",
       "3    14345.98     3994.08  "
      ]
     },
     "execution_count": 1274,
     "metadata": {},
     "output_type": "execute_result"
    }
   ],
   "source": [
    "#call the difference on the sales columns to make the slaes data stationery\n",
    "weekly_liora['sales_diff'] = weekly_liora['Week Total'].diff()\n",
    "weekly_liora = weekly_liora.dropna()\n",
    "weekly_liora.head()"
   ]
  },
  {
   "cell_type": "code",
   "execution_count": null,
   "metadata": {},
   "outputs": [
    {
     "data": {
      "image/png": "[encoded data removed]",
      "text/plain": [
       "<Figure size 1000x500 with 1 Axes>"
      ]
     },
     "metadata": {},
     "output_type": "display_data"
    }
   ],
   "source": [
    "plt.figure(figsize=(10,5))\n",
    "plt.plot(weekly_liora['Week'],weekly_liora['Week Total'])\n",
    "plt.xlabel(\"Week\")\n",
    "plt.ylabel(\"Week Total\")\n",
    "plt.title(\"weekly location sales\")\n",
    "plt.show()"
   ]
  },
  {
   "cell_type": "code",
   "execution_count": null,
   "metadata": {},
   "outputs": [],
   "source": []
  }
 ],
 "metadata": {
  "kernelspec": {
   "display_name": "Python 3",
   "language": "python",
   "name": "python3"
  },
  "language_info": {
   "codemirror_mode": {
    "name": "ipython",
    "version": 3
   },
   "file_extension": ".py",
   "mimetype": "text/x-python",
   "name": "python",
   "nbconvert_exporter": "python",
   "pygments_lexer": "ipython3",
   "version": "3.9.16"
  },
  "orig_nbformat": 4,
  "vscode": {
   "interpreter": {
    "hash": "0affe5c182f67e84eeced7e1496dd350747a01d78e538d239066fa1a96963f2f"
   }
  }
 },
 "nbformat": 4,
 "nbformat_minor": 2
}
