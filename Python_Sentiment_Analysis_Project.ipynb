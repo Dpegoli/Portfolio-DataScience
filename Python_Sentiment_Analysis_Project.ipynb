{
 "cells": [
  {
   "attachments": {},
   "cell_type": "markdown",
   "metadata": {},
   "source": [
    "Sentiment Analysis in Python\n",
    "This notebook is part of my portfolio please check it out! (I scraped data from happycow website to get restautant reviews and then use ML)\n",
    "\n",
    "In this notebook I will be doing some sentiment analysis in python using two different techniques:\n",
    "\n",
    "VADER (Valence Aware Dictionary and Sentiment Reasoner) -\"Bag of words approach\"\n",
    "Roberta Pretrained Model from \n",
    "Huggingface Pipeline\n",
    "\n",
    "using same restaurant location I will then compare review sites Happycow Vs Yelp reviews. ( in anther notebook) "
   ]
  },
  {
   "cell_type": "code",
   "execution_count": 1,
   "metadata": {},
   "outputs": [
    {
     "name": "stderr",
     "output_type": "stream",
     "text": [
      "[nltk_data] Downloading package punkt to\n",
      "[nltk_data]     /Users/davidpegoli/nltk_data...\n",
      "[nltk_data]   Package punkt is already up-to-date!\n",
      "[nltk_data] Downloading package averaged_perceptron_tagger to\n",
      "[nltk_data]     /Users/davidpegoli/nltk_data...\n",
      "[nltk_data]   Package averaged_perceptron_tagger is already up-to-\n",
      "[nltk_data]       date!\n",
      "[nltk_data] Downloading collection 'popular'\n",
      "[nltk_data]    | \n",
      "[nltk_data]    | Downloading package cmudict to\n",
      "[nltk_data]    |     /Users/davidpegoli/nltk_data...\n",
      "[nltk_data]    |   Package cmudict is already up-to-date!\n",
      "[nltk_data]    | Downloading package gazetteers to\n",
      "[nltk_data]    |     /Users/davidpegoli/nltk_data...\n",
      "[nltk_data]    |   Package gazetteers is already up-to-date!\n",
      "[nltk_data]    | Downloading package genesis to\n",
      "[nltk_data]    |     /Users/davidpegoli/nltk_data...\n",
      "[nltk_data]    |   Package genesis is already up-to-date!\n",
      "[nltk_data]    | Downloading package gutenberg to\n",
      "[nltk_data]    |     /Users/davidpegoli/nltk_data...\n",
      "[nltk_data]    |   Package gutenberg is already up-to-date!\n",
      "[nltk_data]    | Downloading package inaugural to\n",
      "[nltk_data]    |     /Users/davidpegoli/nltk_data...\n",
      "[nltk_data]    |   Package inaugural is already up-to-date!\n",
      "[nltk_data]    | Downloading package movie_reviews to\n",
      "[nltk_data]    |     /Users/davidpegoli/nltk_data...\n",
      "[nltk_data]    |   Package movie_reviews is already up-to-date!\n",
      "[nltk_data]    | Downloading package names to\n",
      "[nltk_data]    |     /Users/davidpegoli/nltk_data...\n",
      "[nltk_data]    |   Package names is already up-to-date!\n",
      "[nltk_data]    | Downloading package shakespeare to\n",
      "[nltk_data]    |     /Users/davidpegoli/nltk_data...\n",
      "[nltk_data]    |   Package shakespeare is already up-to-date!\n",
      "[nltk_data]    | Downloading package stopwords to\n",
      "[nltk_data]    |     /Users/davidpegoli/nltk_data...\n",
      "[nltk_data]    |   Package stopwords is already up-to-date!\n",
      "[nltk_data]    | Downloading package treebank to\n",
      "[nltk_data]    |     /Users/davidpegoli/nltk_data...\n",
      "[nltk_data]    |   Package treebank is already up-to-date!\n",
      "[nltk_data]    | Downloading package twitter_samples to\n",
      "[nltk_data]    |     /Users/davidpegoli/nltk_data...\n",
      "[nltk_data]    |   Package twitter_samples is already up-to-date!\n",
      "[nltk_data]    | Downloading package omw to\n",
      "[nltk_data]    |     /Users/davidpegoli/nltk_data...\n",
      "[nltk_data]    |   Package omw is already up-to-date!\n",
      "[nltk_data]    | Downloading package omw-1.4 to\n",
      "[nltk_data]    |     /Users/davidpegoli/nltk_data...\n",
      "[nltk_data]    |   Package omw-1.4 is already up-to-date!\n",
      "[nltk_data]    | Downloading package wordnet to\n",
      "[nltk_data]    |     /Users/davidpegoli/nltk_data...\n",
      "[nltk_data]    |   Package wordnet is already up-to-date!\n",
      "[nltk_data]    | Downloading package wordnet2021 to\n",
      "[nltk_data]    |     /Users/davidpegoli/nltk_data...\n",
      "[nltk_data]    |   Package wordnet2021 is already up-to-date!\n",
      "[nltk_data]    | Downloading package wordnet31 to\n",
      "[nltk_data]    |     /Users/davidpegoli/nltk_data...\n",
      "[nltk_data]    |   Package wordnet31 is already up-to-date!\n",
      "[nltk_data]    | Downloading package wordnet_ic to\n",
      "[nltk_data]    |     /Users/davidpegoli/nltk_data...\n",
      "[nltk_data]    |   Package wordnet_ic is already up-to-date!\n",
      "[nltk_data]    | Downloading package words to\n",
      "[nltk_data]    |     /Users/davidpegoli/nltk_data...\n",
      "[nltk_data]    |   Package words is already up-to-date!\n",
      "[nltk_data]    | Downloading package maxent_ne_chunker to\n",
      "[nltk_data]    |     /Users/davidpegoli/nltk_data...\n",
      "[nltk_data]    |   Package maxent_ne_chunker is already up-to-date!\n",
      "[nltk_data]    | Downloading package punkt to\n",
      "[nltk_data]    |     /Users/davidpegoli/nltk_data...\n",
      "[nltk_data]    |   Package punkt is already up-to-date!\n",
      "[nltk_data]    | Downloading package snowball_data to\n",
      "[nltk_data]    |     /Users/davidpegoli/nltk_data...\n",
      "[nltk_data]    |   Package snowball_data is already up-to-date!\n",
      "[nltk_data]    | Downloading package averaged_perceptron_tagger to\n",
      "[nltk_data]    |     /Users/davidpegoli/nltk_data...\n",
      "[nltk_data]    |   Package averaged_perceptron_tagger is already up-\n",
      "[nltk_data]    |       to-date!\n",
      "[nltk_data]    | \n",
      "[nltk_data]  Done downloading collection popular\n"
     ]
    }
   ],
   "source": [
    "import pandas as pd\n",
    "import numpy as np\n",
    "import matplotlib.pyplot as plt\n",
    "import seaborn as sns\n",
    "import requests\n",
    "from datetime import datetime as dt\n",
    "from bs4 import BeautifulSoup\n",
    "\n",
    "plt.style.use('ggplot')\n",
    "\n",
    "import nltk\n",
    "# required for tokenization\n",
    "nltk.download('punkt')\n",
    "# required for parts of speech tagging\n",
    "nltk.download('averaged_perceptron_tagger')\n",
    "nltk.download('popular')\n",
    "from nltk import ne_chunk\n",
    "from nltk import pos_tag \n",
    "from nltk import RegexpParser"
   ]
  },
  {
   "attachments": {},
   "cell_type": "markdown",
   "metadata": {},
   "source": [
    "I pulled in CSV with parse_date to read in with a Datetime64.."
   ]
  },
  {
   "cell_type": "code",
   "execution_count": 27,
   "metadata": {},
   "outputs": [
    {
     "data": {
      "text/html": [
       "<div>\n",
       "<style scoped>\n",
       "    .dataframe tbody tr th:only-of-type {\n",
       "        vertical-align: middle;\n",
       "    }\n",
       "\n",
       "    .dataframe tbody tr th {\n",
       "        vertical-align: top;\n",
       "    }\n",
       "\n",
       "    .dataframe thead th {\n",
       "        text-align: right;\n",
       "    }\n",
       "</style>\n",
       "<table border=\"1\" class=\"dataframe\">\n",
       "  <thead>\n",
       "    <tr style=\"text-align: right;\">\n",
       "      <th></th>\n",
       "      <th>Date</th>\n",
       "      <th>Stars</th>\n",
       "      <th>Review</th>\n",
       "    </tr>\n",
       "  </thead>\n",
       "  <tbody>\n",
       "    <tr>\n",
       "      <th>0</th>\n",
       "      <td>2023-03-09</td>\n",
       "      <td>5</td>\n",
       "      <td>Double Zero is a #Win_Win!!  I loved this atmo...</td>\n",
       "    </tr>\n",
       "    <tr>\n",
       "      <th>1</th>\n",
       "      <td>2023-02-23</td>\n",
       "      <td>5</td>\n",
       "      <td>I went here with a non-vegan and we both loved...</td>\n",
       "    </tr>\n",
       "    <tr>\n",
       "      <th>2</th>\n",
       "      <td>2023-02-13</td>\n",
       "      <td>5</td>\n",
       "      <td>Can’t say enough great things about this place...</td>\n",
       "    </tr>\n",
       "    <tr>\n",
       "      <th>3</th>\n",
       "      <td>2023-01-16</td>\n",
       "      <td>3</td>\n",
       "      <td>We waited in the restaurant for our carryout p...</td>\n",
       "    </tr>\n",
       "    <tr>\n",
       "      <th>4</th>\n",
       "      <td>2023-01-12</td>\n",
       "      <td>4</td>\n",
       "      <td>I paid for parking nearby ($25). This spot is ...</td>\n",
       "    </tr>\n",
       "    <tr>\n",
       "      <th>5</th>\n",
       "      <td>2022-12-12</td>\n",
       "      <td>5</td>\n",
       "      <td>Every dish was super, including both desserts....</td>\n",
       "    </tr>\n",
       "    <tr>\n",
       "      <th>6</th>\n",
       "      <td>2022-11-06</td>\n",
       "      <td>5</td>\n",
       "      <td>Overall an excellent experience. A minor glitc...</td>\n",
       "    </tr>\n",
       "    <tr>\n",
       "      <th>7</th>\n",
       "      <td>2022-11-05</td>\n",
       "      <td>5</td>\n",
       "      <td>Great experience at Double Zero today. Pizzas ...</td>\n",
       "    </tr>\n",
       "    <tr>\n",
       "      <th>8</th>\n",
       "      <td>2022-09-26</td>\n",
       "      <td>5</td>\n",
       "      <td>I’m literally blown away by how good this food...</td>\n",
       "    </tr>\n",
       "    <tr>\n",
       "      <th>9</th>\n",
       "      <td>2022-09-18</td>\n",
       "      <td>5</td>\n",
       "      <td>Shout out to Isaak our waiter and the first wa...</td>\n",
       "    </tr>\n",
       "    <tr>\n",
       "      <th>10</th>\n",
       "      <td>2022-09-14</td>\n",
       "      <td>5</td>\n",
       "      <td>I’ve happily been to their other location in P...</td>\n",
       "    </tr>\n",
       "    <tr>\n",
       "      <th>11</th>\n",
       "      <td>2022-09-12</td>\n",
       "      <td>5</td>\n",
       "      <td>We were thrilled with the delicious options, i...</td>\n",
       "    </tr>\n",
       "    <tr>\n",
       "      <th>12</th>\n",
       "      <td>2022-08-26</td>\n",
       "      <td>5</td>\n",
       "      <td>Excellent pizza spot.</td>\n",
       "    </tr>\n",
       "    <tr>\n",
       "      <th>13</th>\n",
       "      <td>2022-08-23</td>\n",
       "      <td>5</td>\n",
       "      <td>Dined with a group and had a great time select...</td>\n",
       "    </tr>\n",
       "    <tr>\n",
       "      <th>14</th>\n",
       "      <td>2022-08-22</td>\n",
       "      <td>4</td>\n",
       "      <td>While I tend to find Matthew Kinney joints a b...</td>\n",
       "    </tr>\n",
       "    <tr>\n",
       "      <th>15</th>\n",
       "      <td>2022-08-14</td>\n",
       "      <td>4</td>\n",
       "      <td>Delicious vegan pizza. Calzone was also great.</td>\n",
       "    </tr>\n",
       "    <tr>\n",
       "      <th>16</th>\n",
       "      <td>2022-08-01</td>\n",
       "      <td>5</td>\n",
       "      <td>Until about a year ago, if you were vegan, fin...</td>\n",
       "    </tr>\n",
       "    <tr>\n",
       "      <th>17</th>\n",
       "      <td>2022-06-26</td>\n",
       "      <td>5</td>\n",
       "      <td>If you're in Baltimore you MUST eat here! Whil...</td>\n",
       "    </tr>\n",
       "    <tr>\n",
       "      <th>18</th>\n",
       "      <td>2022-06-20</td>\n",
       "      <td>5</td>\n",
       "      <td>Great pizza, nice atmosphere and awesome custo...</td>\n",
       "    </tr>\n",
       "    <tr>\n",
       "      <th>19</th>\n",
       "      <td>2022-05-09</td>\n",
       "      <td>5</td>\n",
       "      <td>Yeap, great pizzas, come and enjoy. They can b...</td>\n",
       "    </tr>\n",
       "    <tr>\n",
       "      <th>20</th>\n",
       "      <td>2022-05-07</td>\n",
       "      <td>5</td>\n",
       "      <td>This was the best pizza ever. The pepperoni ha...</td>\n",
       "    </tr>\n",
       "    <tr>\n",
       "      <th>21</th>\n",
       "      <td>2022-04-09</td>\n",
       "      <td>5</td>\n",
       "      <td>EVERYTHING is vegan and delicious! The articho...</td>\n",
       "    </tr>\n",
       "    <tr>\n",
       "      <th>22</th>\n",
       "      <td>2022-03-21</td>\n",
       "      <td>5</td>\n",
       "      <td>This is amazing pizza.  I got carry out but it...</td>\n",
       "    </tr>\n",
       "    <tr>\n",
       "      <th>23</th>\n",
       "      <td>2022-03-11</td>\n",
       "      <td>5</td>\n",
       "      <td>The food was delicious  and some of them were ...</td>\n",
       "    </tr>\n",
       "    <tr>\n",
       "      <th>24</th>\n",
       "      <td>2022-02-27</td>\n",
       "      <td>5</td>\n",
       "      <td>This place has very great tasting food.  Beaut...</td>\n",
       "    </tr>\n",
       "    <tr>\n",
       "      <th>25</th>\n",
       "      <td>2022-02-06</td>\n",
       "      <td>5</td>\n",
       "      <td>This place is just so good.\\n\\nUpdated from pr...</td>\n",
       "    </tr>\n",
       "    <tr>\n",
       "      <th>26</th>\n",
       "      <td>2021-12-05</td>\n",
       "      <td>5</td>\n",
       "      <td>Whoa - truffle pizza! Simply divine! The pesto...</td>\n",
       "    </tr>\n",
       "    <tr>\n",
       "      <th>27</th>\n",
       "      <td>2021-11-19</td>\n",
       "      <td>5</td>\n",
       "      <td>I ordered the truffle pizza, and my boyfriend ...</td>\n",
       "    </tr>\n",
       "    <tr>\n",
       "      <th>28</th>\n",
       "      <td>2021-11-14</td>\n",
       "      <td>5</td>\n",
       "      <td>great food and excellent service</td>\n",
       "    </tr>\n",
       "    <tr>\n",
       "      <th>29</th>\n",
       "      <td>2021-11-07</td>\n",
       "      <td>5</td>\n",
       "      <td>I had the potato pizza and the chopped salad. ...</td>\n",
       "    </tr>\n",
       "    <tr>\n",
       "      <th>30</th>\n",
       "      <td>2021-11-06</td>\n",
       "      <td>5</td>\n",
       "      <td>Delicious food and great ambiance. I loved the...</td>\n",
       "    </tr>\n",
       "    <tr>\n",
       "      <th>31</th>\n",
       "      <td>2021-10-09</td>\n",
       "      <td>5</td>\n",
       "      <td>I ate pizza and pasta the flavors are really a...</td>\n",
       "    </tr>\n",
       "    <tr>\n",
       "      <th>32</th>\n",
       "      <td>2021-09-25</td>\n",
       "      <td>5</td>\n",
       "      <td>Much like the Double Zero in NYC, the Baltimor...</td>\n",
       "    </tr>\n",
       "    <tr>\n",
       "      <th>33</th>\n",
       "      <td>2021-09-04</td>\n",
       "      <td>5</td>\n",
       "      <td>I have been to the NYC one a few times and Bal...</td>\n",
       "    </tr>\n",
       "    <tr>\n",
       "      <th>34</th>\n",
       "      <td>2021-08-30</td>\n",
       "      <td>5</td>\n",
       "      <td>So when I found out that Liora also owned Doub...</td>\n",
       "    </tr>\n",
       "    <tr>\n",
       "      <th>35</th>\n",
       "      <td>2021-08-23</td>\n",
       "      <td>5</td>\n",
       "      <td>This is hands down the best vegan pizza I've e...</td>\n",
       "    </tr>\n",
       "    <tr>\n",
       "      <th>36</th>\n",
       "      <td>2021-08-23</td>\n",
       "      <td>5</td>\n",
       "      <td>The pizza is the standout here, and more inter...</td>\n",
       "    </tr>\n",
       "    <tr>\n",
       "      <th>37</th>\n",
       "      <td>2021-08-13</td>\n",
       "      <td>5</td>\n",
       "      <td>Tried the: \\n- Baked meatballs: the taste was ...</td>\n",
       "    </tr>\n",
       "    <tr>\n",
       "      <th>38</th>\n",
       "      <td>2021-07-29</td>\n",
       "      <td>5</td>\n",
       "      <td>Amazing food and amazing service, will be back</td>\n",
       "    </tr>\n",
       "    <tr>\n",
       "      <th>39</th>\n",
       "      <td>2021-07-12</td>\n",
       "      <td>5</td>\n",
       "      <td>We just ordered Double Zero pizza to be delive...</td>\n",
       "    </tr>\n",
       "    <tr>\n",
       "      <th>40</th>\n",
       "      <td>2021-07-06</td>\n",
       "      <td>5</td>\n",
       "      <td>Loved the atmosphere - tall ceilings, mix of c...</td>\n",
       "    </tr>\n",
       "  </tbody>\n",
       "</table>\n",
       "</div>"
      ],
      "text/plain": [
       "         Date  Stars                                             Review\n",
       "0  2023-03-09      5  Double Zero is a #Win_Win!!  I loved this atmo...\n",
       "1  2023-02-23      5  I went here with a non-vegan and we both loved...\n",
       "2  2023-02-13      5  Can’t say enough great things about this place...\n",
       "3  2023-01-16      3  We waited in the restaurant for our carryout p...\n",
       "4  2023-01-12      4  I paid for parking nearby ($25). This spot is ...\n",
       "5  2022-12-12      5  Every dish was super, including both desserts....\n",
       "6  2022-11-06      5  Overall an excellent experience. A minor glitc...\n",
       "7  2022-11-05      5  Great experience at Double Zero today. Pizzas ...\n",
       "8  2022-09-26      5  I’m literally blown away by how good this food...\n",
       "9  2022-09-18      5  Shout out to Isaak our waiter and the first wa...\n",
       "10 2022-09-14      5  I’ve happily been to their other location in P...\n",
       "11 2022-09-12      5  We were thrilled with the delicious options, i...\n",
       "12 2022-08-26      5                              Excellent pizza spot.\n",
       "13 2022-08-23      5  Dined with a group and had a great time select...\n",
       "14 2022-08-22      4  While I tend to find Matthew Kinney joints a b...\n",
       "15 2022-08-14      4     Delicious vegan pizza. Calzone was also great.\n",
       "16 2022-08-01      5  Until about a year ago, if you were vegan, fin...\n",
       "17 2022-06-26      5  If you're in Baltimore you MUST eat here! Whil...\n",
       "18 2022-06-20      5  Great pizza, nice atmosphere and awesome custo...\n",
       "19 2022-05-09      5  Yeap, great pizzas, come and enjoy. They can b...\n",
       "20 2022-05-07      5  This was the best pizza ever. The pepperoni ha...\n",
       "21 2022-04-09      5  EVERYTHING is vegan and delicious! The articho...\n",
       "22 2022-03-21      5  This is amazing pizza.  I got carry out but it...\n",
       "23 2022-03-11      5  The food was delicious  and some of them were ...\n",
       "24 2022-02-27      5  This place has very great tasting food.  Beaut...\n",
       "25 2022-02-06      5  This place is just so good.\\n\\nUpdated from pr...\n",
       "26 2021-12-05      5  Whoa - truffle pizza! Simply divine! The pesto...\n",
       "27 2021-11-19      5  I ordered the truffle pizza, and my boyfriend ...\n",
       "28 2021-11-14      5                   great food and excellent service\n",
       "29 2021-11-07      5  I had the potato pizza and the chopped salad. ...\n",
       "30 2021-11-06      5  Delicious food and great ambiance. I loved the...\n",
       "31 2021-10-09      5  I ate pizza and pasta the flavors are really a...\n",
       "32 2021-09-25      5  Much like the Double Zero in NYC, the Baltimor...\n",
       "33 2021-09-04      5  I have been to the NYC one a few times and Bal...\n",
       "34 2021-08-30      5  So when I found out that Liora also owned Doub...\n",
       "35 2021-08-23      5  This is hands down the best vegan pizza I've e...\n",
       "36 2021-08-23      5  The pizza is the standout here, and more inter...\n",
       "37 2021-08-13      5  Tried the: \\n- Baked meatballs: the taste was ...\n",
       "38 2021-07-29      5     Amazing food and amazing service, will be back\n",
       "39 2021-07-12      5  We just ordered Double Zero pizza to be delive...\n",
       "40 2021-07-06      5  Loved the atmosphere - tall ceilings, mix of c..."
      ]
     },
     "execution_count": 27,
     "metadata": {},
     "output_type": "execute_result"
    }
   ],
   "source": [
    "df = pd.read_csv('/Users/davidpegoli/Desktop/happycow_dz_baltimore.csv',parse_dates=['Date'])\n",
    "\n",
    "df"
   ]
  },
  {
   "attachments": {},
   "cell_type": "markdown",
   "metadata": {},
   "source": [
    "I checked dtypes.."
   ]
  },
  {
   "cell_type": "code",
   "execution_count": 28,
   "metadata": {},
   "outputs": [
    {
     "data": {
      "text/plain": [
       "Date      datetime64[ns]\n",
       "Stars              int64\n",
       "Review            object\n",
       "dtype: object"
      ]
     },
     "execution_count": 28,
     "metadata": {},
     "output_type": "execute_result"
    }
   ],
   "source": [
    "df.dtypes"
   ]
  },
  {
   "attachments": {},
   "cell_type": "markdown",
   "metadata": {},
   "source": [
    "Quick EDA (Exploratory Data Analysis)"
   ]
  },
  {
   "cell_type": "code",
   "execution_count": 37,
   "metadata": {},
   "outputs": [
    {
     "data": {
      "image/png": "[encoded data removed]",
      "text/plain": [
       "<Figure size 1000x500 with 1 Axes>"
      ]
     },
     "metadata": {},
     "output_type": "display_data"
    }
   ],
   "source": [
    "ax = df[\"Stars\"].value_counts().sort_index() \\\n",
    ".plot(kind='bar',\n",
    "     title='Count of Reviews by Stars',\n",
    "     figsize=(10,5))\n",
    "ax.set_xlabel('Review Stars')  \n",
    "plt.show()   "
   ]
  },
  {
   "attachments": {},
   "cell_type": "markdown",
   "metadata": {},
   "source": [
    "Basic NLTK \n",
    "\n",
    "Step 1. VADER Senimantal Scoring \n",
    "I use NLTK's SentimentalIntensityAnalyzer to get neg/neu/pos score"
   ]
  },
  {
   "cell_type": "code",
   "execution_count": 39,
   "metadata": {},
   "outputs": [
    {
     "name": "stdout",
     "output_type": "stream",
     "text": [
      "This was the best pizza ever. The pepperoni had a little kick and reminded me so much of real pepperoni. I loved the Caesar salad, so flavorful!\n"
     ]
    }
   ],
   "source": [
    "# taken review line from data as a example \n",
    "example = df[\"Review\"][20]\n",
    "print(example)"
   ]
  },
  {
   "cell_type": "code",
   "execution_count": 40,
   "metadata": {},
   "outputs": [
    {
     "data": {
      "text/plain": [
       "['This',\n",
       " 'was',\n",
       " 'the',\n",
       " 'best',\n",
       " 'pizza',\n",
       " 'ever',\n",
       " '.',\n",
       " 'The',\n",
       " 'pepperoni',\n",
       " 'had',\n",
       " 'a',\n",
       " 'little',\n",
       " 'kick',\n",
       " 'and',\n",
       " 'reminded',\n",
       " 'me',\n",
       " 'so',\n",
       " 'much',\n",
       " 'of',\n",
       " 'real',\n",
       " 'pepperoni',\n",
       " '.',\n",
       " 'I',\n",
       " 'loved',\n",
       " 'the',\n",
       " 'Caesar',\n",
       " 'salad',\n",
       " ',',\n",
       " 'so',\n",
       " 'flavorful',\n",
       " '!']"
      ]
     },
     "execution_count": 40,
     "metadata": {},
     "output_type": "execute_result"
    }
   ],
   "source": [
    "# will split the sentice in each word \"space\" to tokenize\n",
    "\n",
    "nltk.word_tokenize(example)"
   ]
  },
  {
   "cell_type": "code",
   "execution_count": 41,
   "metadata": {},
   "outputs": [
    {
     "data": {
      "text/plain": [
       "['This', 'was', 'the', 'best', 'pizza', 'ever', '.', 'The', 'pepperoni', 'had']"
      ]
     },
     "execution_count": 41,
     "metadata": {},
     "output_type": "execute_result"
    }
   ],
   "source": [
    "# after tokenizing for natural language processing often need to convert the text into some format that the computer can interpid \n",
    "\n",
    "tokens = nltk.word_tokenize(example)\n",
    "tokens[:10]\n"
   ]
  },
  {
   "attachments": {},
   "cell_type": "markdown",
   "metadata": {},
   "source": [
    "# convert to token below part of speech tag with codes link to check out the meanings.   \n",
    "https://www.guru99.com/pos-tagging-chunking-nltk.html"
   ]
  },
  {
   "cell_type": "code",
   "execution_count": 43,
   "metadata": {},
   "outputs": [
    {
     "data": {
      "text/plain": [
       "[('This', 'DT'),\n",
       " ('was', 'VBD'),\n",
       " ('the', 'DT'),\n",
       " ('best', 'JJS'),\n",
       " ('pizza', 'NN'),\n",
       " ('ever', 'RB'),\n",
       " ('.', '.'),\n",
       " ('The', 'DT'),\n",
       " ('pepperoni', 'NN'),\n",
       " ('had', 'VBD')]"
      ]
     },
     "execution_count": 43,
     "metadata": {},
     "output_type": "execute_result"
    }
   ],
   "source": [
    "tagged = nltk.pos_tag(tokens)\n",
    "tagged[:10]"
   ]
  },
  {
   "cell_type": "code",
   "execution_count": 44,
   "metadata": {},
   "outputs": [
    {
     "name": "stdout",
     "output_type": "stream",
     "text": [
      "(S\n",
      "  This/DT\n",
      "  was/VBD\n",
      "  the/DT\n",
      "  best/JJS\n",
      "  pizza/NN\n",
      "  ever/RB\n",
      "  ./.\n",
      "  The/DT\n",
      "  pepperoni/NN\n",
      "  had/VBD\n",
      "  a/DT\n",
      "  little/JJ\n",
      "  kick/NN\n",
      "  and/CC\n",
      "  reminded/VBD\n",
      "  me/PRP\n",
      "  so/RB\n",
      "  much/RB\n",
      "  of/IN\n",
      "  real/JJ\n",
      "  pepperoni/NN\n",
      "  ./.\n",
      "  I/PRP\n",
      "  loved/VBD\n",
      "  the/DT\n",
      "  (GPE Caesar/NNP)\n",
      "  salad/NN\n",
      "  ,/,\n",
      "  so/RB\n",
      "  flavorful/JJ\n",
      "  !/.)\n"
     ]
    }
   ],
   "source": [
    "## putting the tags into entities\n",
    "\n",
    "entities = nltk.chunk.ne_chunk(tagged)\n",
    "entities.pprint()\n",
    "\n",
    "# to chunk tokens and group them into chunks. best to use prettyprint pprint. \n"
   ]
  },
  {
   "attachments": {},
   "cell_type": "markdown",
   "metadata": {},
   "source": [
    "this approach basically takes all the words in a sentice and has a value of postive, negative or nuetral for each word.. then it combines up a math equation adding up all the words to put how positive, negative, or neutral the statement is off all the words.  Does not account for relationship between words. ( we know it is very inpiortant in human speeach \n",
    "but this a good approach to grab more of a better reading)"
   ]
  },
  {
   "attachments": {},
   "cell_type": "markdown",
   "metadata": {},
   "source": [
    "Step 1. VADER Seniment Scoring\n",
    "I will use NLTK's SentimentIntensityAnalyzer to get the neg/neu/pos scores of the text.\n",
    "\n",
    "This uses a \"bag of words\" approach:\n",
    "Stop words are removed\n",
    "each word is scored and combined to a total score."
   ]
  },
  {
   "cell_type": "code",
   "execution_count": 45,
   "metadata": {},
   "outputs": [],
   "source": [
    "from nltk.sentiment import SentimentIntensityAnalyzer\n",
    "from tqdm.notebook import tqdm\n",
    "\n",
    "sia = SentimentIntensityAnalyzer()"
   ]
  },
  {
   "attachments": {},
   "cell_type": "markdown",
   "metadata": {},
   "source": [
    "Run the key words to text see if scoring is accurate "
   ]
  },
  {
   "cell_type": "code",
   "execution_count": 46,
   "metadata": {},
   "outputs": [
    {
     "data": {
      "text/plain": [
       "{'neg': 0.0, 'neu': 0.318, 'pos': 0.682, 'compound': 0.6468}"
      ]
     },
     "execution_count": 46,
     "metadata": {},
     "output_type": "execute_result"
    }
   ],
   "source": [
    "#postive \n",
    "sia.polarity_scores('I am so happy!')"
   ]
  },
  {
   "cell_type": "code",
   "execution_count": 47,
   "metadata": {},
   "outputs": [
    {
     "data": {
      "text/plain": [
       "{'neg': 0.451, 'neu': 0.549, 'pos': 0.0, 'compound': -0.6249}"
      ]
     },
     "execution_count": 47,
     "metadata": {},
     "output_type": "execute_result"
    }
   ],
   "source": [
    "#negative \n",
    "sia.polarity_scores('This is the worst thing ever.')"
   ]
  },
  {
   "cell_type": "code",
   "execution_count": 48,
   "metadata": {},
   "outputs": [
    {
     "data": {
      "text/plain": [
       "{'neg': 0.0, 'neu': 0.733, 'pos': 0.267, 'compound': 0.8553}"
      ]
     },
     "execution_count": 48,
     "metadata": {},
     "output_type": "execute_result"
    }
   ],
   "source": [
    "#run score the token expample from above \n",
    "sia.polarity_scores(example)"
   ]
  },
  {
   "cell_type": "code",
   "execution_count": 95,
   "metadata": {},
   "outputs": [],
   "source": [
    "# tqdm is a library that is used for creating Python Progress Bars\n",
    "\n",
    "from tqdm import tqdm"
   ]
  },
  {
   "cell_type": "code",
   "execution_count": 96,
   "metadata": {},
   "outputs": [
    {
     "name": "stderr",
     "output_type": "stream",
     "text": [
      "100%|██████████| 41/41 [00:00<00:00, 2042.87it/s]\n"
     ]
    }
   ],
   "source": [
    "# Run the polarity score on the entire dataset...a way to store the results created a res for dictionary. everytime a loop through, store in myid part of the dictioary polarity score. \n",
    "res = {}\n",
    "for i, row in tqdm(df.iterrows(), total=len(df)):\n",
    "    text= row['Review']\n",
    "    myid = row['Stars']\n",
    "    res[myid] = sia.polarity_scores(text)"
   ]
  },
  {
   "cell_type": "code",
   "execution_count": 100,
   "metadata": {},
   "outputs": [
    {
     "data": {
      "text/html": [
       "<div>\n",
       "<style scoped>\n",
       "    .dataframe tbody tr th:only-of-type {\n",
       "        vertical-align: middle;\n",
       "    }\n",
       "\n",
       "    .dataframe tbody tr th {\n",
       "        vertical-align: top;\n",
       "    }\n",
       "\n",
       "    .dataframe thead th {\n",
       "        text-align: right;\n",
       "    }\n",
       "</style>\n",
       "<table border=\"1\" class=\"dataframe\">\n",
       "  <thead>\n",
       "    <tr style=\"text-align: right;\">\n",
       "      <th></th>\n",
       "      <th>Stars</th>\n",
       "      <th>neg</th>\n",
       "      <th>neu</th>\n",
       "      <th>pos</th>\n",
       "      <th>compound</th>\n",
       "      <th>Date</th>\n",
       "      <th>Review</th>\n",
       "    </tr>\n",
       "  </thead>\n",
       "  <tbody>\n",
       "    <tr>\n",
       "      <th>0</th>\n",
       "      <td>5</td>\n",
       "      <td>0.018</td>\n",
       "      <td>0.857</td>\n",
       "      <td>0.125</td>\n",
       "      <td>0.8860</td>\n",
       "      <td>2023-03-09</td>\n",
       "      <td>Double Zero is a #Win_Win!!  I loved this atmo...</td>\n",
       "    </tr>\n",
       "    <tr>\n",
       "      <th>1</th>\n",
       "      <td>5</td>\n",
       "      <td>0.018</td>\n",
       "      <td>0.857</td>\n",
       "      <td>0.125</td>\n",
       "      <td>0.8860</td>\n",
       "      <td>2023-02-23</td>\n",
       "      <td>I went here with a non-vegan and we both loved...</td>\n",
       "    </tr>\n",
       "    <tr>\n",
       "      <th>2</th>\n",
       "      <td>5</td>\n",
       "      <td>0.018</td>\n",
       "      <td>0.857</td>\n",
       "      <td>0.125</td>\n",
       "      <td>0.8860</td>\n",
       "      <td>2023-02-13</td>\n",
       "      <td>Can’t say enough great things about this place...</td>\n",
       "    </tr>\n",
       "    <tr>\n",
       "      <th>3</th>\n",
       "      <td>5</td>\n",
       "      <td>0.018</td>\n",
       "      <td>0.857</td>\n",
       "      <td>0.125</td>\n",
       "      <td>0.8860</td>\n",
       "      <td>2022-12-12</td>\n",
       "      <td>Every dish was super, including both desserts....</td>\n",
       "    </tr>\n",
       "    <tr>\n",
       "      <th>4</th>\n",
       "      <td>5</td>\n",
       "      <td>0.018</td>\n",
       "      <td>0.857</td>\n",
       "      <td>0.125</td>\n",
       "      <td>0.8860</td>\n",
       "      <td>2022-11-06</td>\n",
       "      <td>Overall an excellent experience. A minor glitc...</td>\n",
       "    </tr>\n",
       "    <tr>\n",
       "      <th>5</th>\n",
       "      <td>5</td>\n",
       "      <td>0.018</td>\n",
       "      <td>0.857</td>\n",
       "      <td>0.125</td>\n",
       "      <td>0.8860</td>\n",
       "      <td>2022-11-05</td>\n",
       "      <td>Great experience at Double Zero today. Pizzas ...</td>\n",
       "    </tr>\n",
       "    <tr>\n",
       "      <th>6</th>\n",
       "      <td>5</td>\n",
       "      <td>0.018</td>\n",
       "      <td>0.857</td>\n",
       "      <td>0.125</td>\n",
       "      <td>0.8860</td>\n",
       "      <td>2022-09-26</td>\n",
       "      <td>I’m literally blown away by how good this food...</td>\n",
       "    </tr>\n",
       "    <tr>\n",
       "      <th>7</th>\n",
       "      <td>5</td>\n",
       "      <td>0.018</td>\n",
       "      <td>0.857</td>\n",
       "      <td>0.125</td>\n",
       "      <td>0.8860</td>\n",
       "      <td>2022-09-18</td>\n",
       "      <td>Shout out to Isaak our waiter and the first wa...</td>\n",
       "    </tr>\n",
       "    <tr>\n",
       "      <th>8</th>\n",
       "      <td>5</td>\n",
       "      <td>0.018</td>\n",
       "      <td>0.857</td>\n",
       "      <td>0.125</td>\n",
       "      <td>0.8860</td>\n",
       "      <td>2022-09-14</td>\n",
       "      <td>I’ve happily been to their other location in P...</td>\n",
       "    </tr>\n",
       "    <tr>\n",
       "      <th>9</th>\n",
       "      <td>5</td>\n",
       "      <td>0.018</td>\n",
       "      <td>0.857</td>\n",
       "      <td>0.125</td>\n",
       "      <td>0.8860</td>\n",
       "      <td>2022-09-12</td>\n",
       "      <td>We were thrilled with the delicious options, i...</td>\n",
       "    </tr>\n",
       "    <tr>\n",
       "      <th>10</th>\n",
       "      <td>5</td>\n",
       "      <td>0.018</td>\n",
       "      <td>0.857</td>\n",
       "      <td>0.125</td>\n",
       "      <td>0.8860</td>\n",
       "      <td>2022-08-26</td>\n",
       "      <td>Excellent pizza spot.</td>\n",
       "    </tr>\n",
       "    <tr>\n",
       "      <th>11</th>\n",
       "      <td>5</td>\n",
       "      <td>0.018</td>\n",
       "      <td>0.857</td>\n",
       "      <td>0.125</td>\n",
       "      <td>0.8860</td>\n",
       "      <td>2022-08-23</td>\n",
       "      <td>Dined with a group and had a great time select...</td>\n",
       "    </tr>\n",
       "    <tr>\n",
       "      <th>12</th>\n",
       "      <td>5</td>\n",
       "      <td>0.018</td>\n",
       "      <td>0.857</td>\n",
       "      <td>0.125</td>\n",
       "      <td>0.8860</td>\n",
       "      <td>2022-08-01</td>\n",
       "      <td>Until about a year ago, if you were vegan, fin...</td>\n",
       "    </tr>\n",
       "    <tr>\n",
       "      <th>13</th>\n",
       "      <td>5</td>\n",
       "      <td>0.018</td>\n",
       "      <td>0.857</td>\n",
       "      <td>0.125</td>\n",
       "      <td>0.8860</td>\n",
       "      <td>2022-06-26</td>\n",
       "      <td>If you're in Baltimore you MUST eat here! Whil...</td>\n",
       "    </tr>\n",
       "    <tr>\n",
       "      <th>14</th>\n",
       "      <td>5</td>\n",
       "      <td>0.018</td>\n",
       "      <td>0.857</td>\n",
       "      <td>0.125</td>\n",
       "      <td>0.8860</td>\n",
       "      <td>2022-06-20</td>\n",
       "      <td>Great pizza, nice atmosphere and awesome custo...</td>\n",
       "    </tr>\n",
       "    <tr>\n",
       "      <th>15</th>\n",
       "      <td>5</td>\n",
       "      <td>0.018</td>\n",
       "      <td>0.857</td>\n",
       "      <td>0.125</td>\n",
       "      <td>0.8860</td>\n",
       "      <td>2022-05-09</td>\n",
       "      <td>Yeap, great pizzas, come and enjoy. They can b...</td>\n",
       "    </tr>\n",
       "    <tr>\n",
       "      <th>16</th>\n",
       "      <td>5</td>\n",
       "      <td>0.018</td>\n",
       "      <td>0.857</td>\n",
       "      <td>0.125</td>\n",
       "      <td>0.8860</td>\n",
       "      <td>2022-05-07</td>\n",
       "      <td>This was the best pizza ever. The pepperoni ha...</td>\n",
       "    </tr>\n",
       "    <tr>\n",
       "      <th>17</th>\n",
       "      <td>5</td>\n",
       "      <td>0.018</td>\n",
       "      <td>0.857</td>\n",
       "      <td>0.125</td>\n",
       "      <td>0.8860</td>\n",
       "      <td>2022-04-09</td>\n",
       "      <td>EVERYTHING is vegan and delicious! The articho...</td>\n",
       "    </tr>\n",
       "    <tr>\n",
       "      <th>18</th>\n",
       "      <td>5</td>\n",
       "      <td>0.018</td>\n",
       "      <td>0.857</td>\n",
       "      <td>0.125</td>\n",
       "      <td>0.8860</td>\n",
       "      <td>2022-03-21</td>\n",
       "      <td>This is amazing pizza.  I got carry out but it...</td>\n",
       "    </tr>\n",
       "    <tr>\n",
       "      <th>19</th>\n",
       "      <td>5</td>\n",
       "      <td>0.018</td>\n",
       "      <td>0.857</td>\n",
       "      <td>0.125</td>\n",
       "      <td>0.8860</td>\n",
       "      <td>2022-03-11</td>\n",
       "      <td>The food was delicious  and some of them were ...</td>\n",
       "    </tr>\n",
       "    <tr>\n",
       "      <th>20</th>\n",
       "      <td>5</td>\n",
       "      <td>0.018</td>\n",
       "      <td>0.857</td>\n",
       "      <td>0.125</td>\n",
       "      <td>0.8860</td>\n",
       "      <td>2022-02-27</td>\n",
       "      <td>This place has very great tasting food.  Beaut...</td>\n",
       "    </tr>\n",
       "    <tr>\n",
       "      <th>21</th>\n",
       "      <td>5</td>\n",
       "      <td>0.018</td>\n",
       "      <td>0.857</td>\n",
       "      <td>0.125</td>\n",
       "      <td>0.8860</td>\n",
       "      <td>2022-02-06</td>\n",
       "      <td>This place is just so good.\\n\\nUpdated from pr...</td>\n",
       "    </tr>\n",
       "    <tr>\n",
       "      <th>22</th>\n",
       "      <td>5</td>\n",
       "      <td>0.018</td>\n",
       "      <td>0.857</td>\n",
       "      <td>0.125</td>\n",
       "      <td>0.8860</td>\n",
       "      <td>2021-12-05</td>\n",
       "      <td>Whoa - truffle pizza! Simply divine! The pesto...</td>\n",
       "    </tr>\n",
       "    <tr>\n",
       "      <th>23</th>\n",
       "      <td>5</td>\n",
       "      <td>0.018</td>\n",
       "      <td>0.857</td>\n",
       "      <td>0.125</td>\n",
       "      <td>0.8860</td>\n",
       "      <td>2021-11-19</td>\n",
       "      <td>I ordered the truffle pizza, and my boyfriend ...</td>\n",
       "    </tr>\n",
       "    <tr>\n",
       "      <th>24</th>\n",
       "      <td>5</td>\n",
       "      <td>0.018</td>\n",
       "      <td>0.857</td>\n",
       "      <td>0.125</td>\n",
       "      <td>0.8860</td>\n",
       "      <td>2021-11-14</td>\n",
       "      <td>great food and excellent service</td>\n",
       "    </tr>\n",
       "    <tr>\n",
       "      <th>25</th>\n",
       "      <td>5</td>\n",
       "      <td>0.018</td>\n",
       "      <td>0.857</td>\n",
       "      <td>0.125</td>\n",
       "      <td>0.8860</td>\n",
       "      <td>2021-11-07</td>\n",
       "      <td>I had the potato pizza and the chopped salad. ...</td>\n",
       "    </tr>\n",
       "    <tr>\n",
       "      <th>26</th>\n",
       "      <td>5</td>\n",
       "      <td>0.018</td>\n",
       "      <td>0.857</td>\n",
       "      <td>0.125</td>\n",
       "      <td>0.8860</td>\n",
       "      <td>2021-11-06</td>\n",
       "      <td>Delicious food and great ambiance. I loved the...</td>\n",
       "    </tr>\n",
       "    <tr>\n",
       "      <th>27</th>\n",
       "      <td>5</td>\n",
       "      <td>0.018</td>\n",
       "      <td>0.857</td>\n",
       "      <td>0.125</td>\n",
       "      <td>0.8860</td>\n",
       "      <td>2021-10-09</td>\n",
       "      <td>I ate pizza and pasta the flavors are really a...</td>\n",
       "    </tr>\n",
       "    <tr>\n",
       "      <th>28</th>\n",
       "      <td>5</td>\n",
       "      <td>0.018</td>\n",
       "      <td>0.857</td>\n",
       "      <td>0.125</td>\n",
       "      <td>0.8860</td>\n",
       "      <td>2021-09-25</td>\n",
       "      <td>Much like the Double Zero in NYC, the Baltimor...</td>\n",
       "    </tr>\n",
       "    <tr>\n",
       "      <th>29</th>\n",
       "      <td>5</td>\n",
       "      <td>0.018</td>\n",
       "      <td>0.857</td>\n",
       "      <td>0.125</td>\n",
       "      <td>0.8860</td>\n",
       "      <td>2021-09-04</td>\n",
       "      <td>I have been to the NYC one a few times and Bal...</td>\n",
       "    </tr>\n",
       "    <tr>\n",
       "      <th>30</th>\n",
       "      <td>5</td>\n",
       "      <td>0.018</td>\n",
       "      <td>0.857</td>\n",
       "      <td>0.125</td>\n",
       "      <td>0.8860</td>\n",
       "      <td>2021-08-30</td>\n",
       "      <td>So when I found out that Liora also owned Doub...</td>\n",
       "    </tr>\n",
       "    <tr>\n",
       "      <th>31</th>\n",
       "      <td>5</td>\n",
       "      <td>0.018</td>\n",
       "      <td>0.857</td>\n",
       "      <td>0.125</td>\n",
       "      <td>0.8860</td>\n",
       "      <td>2021-08-23</td>\n",
       "      <td>This is hands down the best vegan pizza I've e...</td>\n",
       "    </tr>\n",
       "    <tr>\n",
       "      <th>32</th>\n",
       "      <td>5</td>\n",
       "      <td>0.018</td>\n",
       "      <td>0.857</td>\n",
       "      <td>0.125</td>\n",
       "      <td>0.8860</td>\n",
       "      <td>2021-08-23</td>\n",
       "      <td>The pizza is the standout here, and more inter...</td>\n",
       "    </tr>\n",
       "    <tr>\n",
       "      <th>33</th>\n",
       "      <td>5</td>\n",
       "      <td>0.018</td>\n",
       "      <td>0.857</td>\n",
       "      <td>0.125</td>\n",
       "      <td>0.8860</td>\n",
       "      <td>2021-08-13</td>\n",
       "      <td>Tried the: \\n- Baked meatballs: the taste was ...</td>\n",
       "    </tr>\n",
       "    <tr>\n",
       "      <th>34</th>\n",
       "      <td>5</td>\n",
       "      <td>0.018</td>\n",
       "      <td>0.857</td>\n",
       "      <td>0.125</td>\n",
       "      <td>0.8860</td>\n",
       "      <td>2021-07-29</td>\n",
       "      <td>Amazing food and amazing service, will be back</td>\n",
       "    </tr>\n",
       "    <tr>\n",
       "      <th>35</th>\n",
       "      <td>5</td>\n",
       "      <td>0.018</td>\n",
       "      <td>0.857</td>\n",
       "      <td>0.125</td>\n",
       "      <td>0.8860</td>\n",
       "      <td>2021-07-12</td>\n",
       "      <td>We just ordered Double Zero pizza to be delive...</td>\n",
       "    </tr>\n",
       "    <tr>\n",
       "      <th>36</th>\n",
       "      <td>5</td>\n",
       "      <td>0.018</td>\n",
       "      <td>0.857</td>\n",
       "      <td>0.125</td>\n",
       "      <td>0.8860</td>\n",
       "      <td>2021-07-06</td>\n",
       "      <td>Loved the atmosphere - tall ceilings, mix of c...</td>\n",
       "    </tr>\n",
       "    <tr>\n",
       "      <th>37</th>\n",
       "      <td>3</td>\n",
       "      <td>0.178</td>\n",
       "      <td>0.683</td>\n",
       "      <td>0.139</td>\n",
       "      <td>-0.5181</td>\n",
       "      <td>2023-01-16</td>\n",
       "      <td>We waited in the restaurant for our carryout p...</td>\n",
       "    </tr>\n",
       "    <tr>\n",
       "      <th>38</th>\n",
       "      <td>4</td>\n",
       "      <td>0.000</td>\n",
       "      <td>0.391</td>\n",
       "      <td>0.609</td>\n",
       "      <td>0.8316</td>\n",
       "      <td>2023-01-12</td>\n",
       "      <td>I paid for parking nearby ($25). This spot is ...</td>\n",
       "    </tr>\n",
       "    <tr>\n",
       "      <th>39</th>\n",
       "      <td>4</td>\n",
       "      <td>0.000</td>\n",
       "      <td>0.391</td>\n",
       "      <td>0.609</td>\n",
       "      <td>0.8316</td>\n",
       "      <td>2022-08-22</td>\n",
       "      <td>While I tend to find Matthew Kinney joints a b...</td>\n",
       "    </tr>\n",
       "    <tr>\n",
       "      <th>40</th>\n",
       "      <td>4</td>\n",
       "      <td>0.000</td>\n",
       "      <td>0.391</td>\n",
       "      <td>0.609</td>\n",
       "      <td>0.8316</td>\n",
       "      <td>2022-08-14</td>\n",
       "      <td>Delicious vegan pizza. Calzone was also great.</td>\n",
       "    </tr>\n",
       "  </tbody>\n",
       "</table>\n",
       "</div>"
      ],
      "text/plain": [
       "    Stars    neg    neu    pos  compound       Date  \\\n",
       "0       5  0.018  0.857  0.125    0.8860 2023-03-09   \n",
       "1       5  0.018  0.857  0.125    0.8860 2023-02-23   \n",
       "2       5  0.018  0.857  0.125    0.8860 2023-02-13   \n",
       "3       5  0.018  0.857  0.125    0.8860 2022-12-12   \n",
       "4       5  0.018  0.857  0.125    0.8860 2022-11-06   \n",
       "5       5  0.018  0.857  0.125    0.8860 2022-11-05   \n",
       "6       5  0.018  0.857  0.125    0.8860 2022-09-26   \n",
       "7       5  0.018  0.857  0.125    0.8860 2022-09-18   \n",
       "8       5  0.018  0.857  0.125    0.8860 2022-09-14   \n",
       "9       5  0.018  0.857  0.125    0.8860 2022-09-12   \n",
       "10      5  0.018  0.857  0.125    0.8860 2022-08-26   \n",
       "11      5  0.018  0.857  0.125    0.8860 2022-08-23   \n",
       "12      5  0.018  0.857  0.125    0.8860 2022-08-01   \n",
       "13      5  0.018  0.857  0.125    0.8860 2022-06-26   \n",
       "14      5  0.018  0.857  0.125    0.8860 2022-06-20   \n",
       "15      5  0.018  0.857  0.125    0.8860 2022-05-09   \n",
       "16      5  0.018  0.857  0.125    0.8860 2022-05-07   \n",
       "17      5  0.018  0.857  0.125    0.8860 2022-04-09   \n",
       "18      5  0.018  0.857  0.125    0.8860 2022-03-21   \n",
       "19      5  0.018  0.857  0.125    0.8860 2022-03-11   \n",
       "20      5  0.018  0.857  0.125    0.8860 2022-02-27   \n",
       "21      5  0.018  0.857  0.125    0.8860 2022-02-06   \n",
       "22      5  0.018  0.857  0.125    0.8860 2021-12-05   \n",
       "23      5  0.018  0.857  0.125    0.8860 2021-11-19   \n",
       "24      5  0.018  0.857  0.125    0.8860 2021-11-14   \n",
       "25      5  0.018  0.857  0.125    0.8860 2021-11-07   \n",
       "26      5  0.018  0.857  0.125    0.8860 2021-11-06   \n",
       "27      5  0.018  0.857  0.125    0.8860 2021-10-09   \n",
       "28      5  0.018  0.857  0.125    0.8860 2021-09-25   \n",
       "29      5  0.018  0.857  0.125    0.8860 2021-09-04   \n",
       "30      5  0.018  0.857  0.125    0.8860 2021-08-30   \n",
       "31      5  0.018  0.857  0.125    0.8860 2021-08-23   \n",
       "32      5  0.018  0.857  0.125    0.8860 2021-08-23   \n",
       "33      5  0.018  0.857  0.125    0.8860 2021-08-13   \n",
       "34      5  0.018  0.857  0.125    0.8860 2021-07-29   \n",
       "35      5  0.018  0.857  0.125    0.8860 2021-07-12   \n",
       "36      5  0.018  0.857  0.125    0.8860 2021-07-06   \n",
       "37      3  0.178  0.683  0.139   -0.5181 2023-01-16   \n",
       "38      4  0.000  0.391  0.609    0.8316 2023-01-12   \n",
       "39      4  0.000  0.391  0.609    0.8316 2022-08-22   \n",
       "40      4  0.000  0.391  0.609    0.8316 2022-08-14   \n",
       "\n",
       "                                               Review  \n",
       "0   Double Zero is a #Win_Win!!  I loved this atmo...  \n",
       "1   I went here with a non-vegan and we both loved...  \n",
       "2   Can’t say enough great things about this place...  \n",
       "3   Every dish was super, including both desserts....  \n",
       "4   Overall an excellent experience. A minor glitc...  \n",
       "5   Great experience at Double Zero today. Pizzas ...  \n",
       "6   I’m literally blown away by how good this food...  \n",
       "7   Shout out to Isaak our waiter and the first wa...  \n",
       "8   I’ve happily been to their other location in P...  \n",
       "9   We were thrilled with the delicious options, i...  \n",
       "10                              Excellent pizza spot.  \n",
       "11  Dined with a group and had a great time select...  \n",
       "12  Until about a year ago, if you were vegan, fin...  \n",
       "13  If you're in Baltimore you MUST eat here! Whil...  \n",
       "14  Great pizza, nice atmosphere and awesome custo...  \n",
       "15  Yeap, great pizzas, come and enjoy. They can b...  \n",
       "16  This was the best pizza ever. The pepperoni ha...  \n",
       "17  EVERYTHING is vegan and delicious! The articho...  \n",
       "18  This is amazing pizza.  I got carry out but it...  \n",
       "19  The food was delicious  and some of them were ...  \n",
       "20  This place has very great tasting food.  Beaut...  \n",
       "21  This place is just so good.\\n\\nUpdated from pr...  \n",
       "22  Whoa - truffle pizza! Simply divine! The pesto...  \n",
       "23  I ordered the truffle pizza, and my boyfriend ...  \n",
       "24                   great food and excellent service  \n",
       "25  I had the potato pizza and the chopped salad. ...  \n",
       "26  Delicious food and great ambiance. I loved the...  \n",
       "27  I ate pizza and pasta the flavors are really a...  \n",
       "28  Much like the Double Zero in NYC, the Baltimor...  \n",
       "29  I have been to the NYC one a few times and Bal...  \n",
       "30  So when I found out that Liora also owned Doub...  \n",
       "31  This is hands down the best vegan pizza I've e...  \n",
       "32  The pizza is the standout here, and more inter...  \n",
       "33  Tried the: \\n- Baked meatballs: the taste was ...  \n",
       "34     Amazing food and amazing service, will be back  \n",
       "35  We just ordered Double Zero pizza to be delive...  \n",
       "36  Loved the atmosphere - tall ceilings, mix of c...  \n",
       "37  We waited in the restaurant for our carryout p...  \n",
       "38  I paid for parking nearby ($25). This spot is ...  \n",
       "39  While I tend to find Matthew Kinney joints a b...  \n",
       "40     Delicious vegan pizza. Calzone was also great.  "
      ]
     },
     "execution_count": 100,
     "metadata": {},
     "output_type": "execute_result"
    }
   ],
   "source": [
    "#runnning the polarity score table \n",
    "\n",
    "vaders = pd.DataFrame(res).T\n",
    "vaders = vaders.reset_index().rename(columns={'index':'Stars'})\n",
    "vaders = vaders.merge(df, how='left')\n",
    "vaders"
   ]
  },
  {
   "attachments": {},
   "cell_type": "markdown",
   "metadata": {},
   "source": [
    "Ploting the data. in the more simple way of the higher star equal to higher compound. "
   ]
  },
  {
   "cell_type": "code",
   "execution_count": 101,
   "metadata": {},
   "outputs": [
    {
     "data": {
      "image/png": "[encoded data removed]",
      "text/plain": [
       "<Figure size 640x480 with 1 Axes>"
      ]
     },
     "metadata": {},
     "output_type": "display_data"
    }
   ],
   "source": [
    "ax = sns.barplot(data=vaders, x='Stars', y='compound')\n",
    "ax.set_title('Compound Score by Happycow Review')\n",
    "plt.show()"
   ]
  },
  {
   "attachments": {},
   "cell_type": "markdown",
   "metadata": {},
   "source": [
    "breakdown deeper look at the pos, neu, and neg score for each..\n"
   ]
  },
  {
   "cell_type": "code",
   "execution_count": 102,
   "metadata": {},
   "outputs": [
    {
     "data": {
      "image/png": "[encoded data removed]",
      "text/plain": [
       "<Figure size 1200x300 with 3 Axes>"
      ]
     },
     "metadata": {},
     "output_type": "display_data"
    }
   ],
   "source": [
    "fig, axs = plt.subplots(1, 3, figsize=(12, 3))\n",
    "sns.barplot(data=vaders, x='Stars', y='pos', ax=axs[0])\n",
    "sns.barplot(data=vaders, x='Stars', y='neu', ax=axs[1])\n",
    "sns.barplot(data=vaders, x='Stars', y='neg', ax=axs[2])\n",
    "axs[0].set_title('Positive')\n",
    "axs[1].set_title('Neutral')\n",
    "axs[2].set_title('Negative')\n",
    "plt.tight_layout()\n",
    "plt.show()"
   ]
  },
  {
   "attachments": {},
   "cell_type": "markdown",
   "metadata": {},
   "source": [
    "Over all I see that Vaders is confrim and valuable with connection to Score of reviews and sentiment score but Roberta can be more powerful\n",
    "Vaders just looks at each word\n",
    "Roberta tranformer deep learning can pick up on context related words..   "
   ]
  },
  {
   "attachments": {},
   "cell_type": "markdown",
   "metadata": {},
   "source": [
    "Roberta Pretrained Model from huggingface   \n",
    "last model will show differnce between model outputs from the two packages and compared results...\n"
   ]
  },
  {
   "attachments": {},
   "cell_type": "markdown",
   "metadata": {},
   "source": [
    "Step 3. Roberta Pretrained Model\n",
    "Use a model trained of a large corpus of data.\n",
    "Transformer model accounts for the words but also the context related to other words.\n"
   ]
  },
  {
   "cell_type": "code",
   "execution_count": 105,
   "metadata": {},
   "outputs": [],
   "source": [
    "\n",
    "\n",
    "from transformers import AutoTokenizer\n",
    "from transformers import AutoModelForSequenceClassification\n",
    "from scipy.special import softmax"
   ]
  },
  {
   "cell_type": "code",
   "execution_count": 107,
   "metadata": {},
   "outputs": [],
   "source": [
    "#### provided from twitter and trained on twitter comments so no need to retrain just apply and use trained weight to apply and see results\n",
    "\n",
    "\n",
    "MODEL = f\"cardiffnlp/twitter-roberta-base-sentiment\"\n",
    "tokenizer = AutoTokenizer.from_pretrained(MODEL)\n",
    "model = AutoModelForSequenceClassification.from_pretrained(MODEL)"
   ]
  },
  {
   "cell_type": "code",
   "execution_count": 108,
   "metadata": {},
   "outputs": [
    {
     "name": "stdout",
     "output_type": "stream",
     "text": [
      "This was the best pizza ever. The pepperoni had a little kick and reminded me so much of real pepperoni. I loved the Caesar salad, so flavorful!\n"
     ]
    },
    {
     "data": {
      "text/plain": [
       "{'neg': 0.0, 'neu': 0.733, 'pos': 0.267, 'compound': 0.8553}"
      ]
     },
     "execution_count": 108,
     "metadata": {},
     "output_type": "execute_result"
    }
   ],
   "source": [
    "# VADER results on example\n",
    "print(example)\n",
    "sia.polarity_scores(example)"
   ]
  },
  {
   "cell_type": "code",
   "execution_count": 109,
   "metadata": {},
   "outputs": [
    {
     "name": "stdout",
     "output_type": "stream",
     "text": [
      "{'roberta_neg': 0.0014433512, 'roberta_neu': 0.0067647737, 'roberta_pos': 0.99179184}\n"
     ]
    }
   ],
   "source": [
    "# Run for Roberta Model\n",
    "encoded_text = tokenizer(example, return_tensors='pt')\n",
    "output = model(**encoded_text)\n",
    "scores = output[0][0].detach().numpy()\n",
    "scores = softmax(scores)\n",
    "scores_dict = {\n",
    "    'roberta_neg' : scores[0],\n",
    "    'roberta_neu' : scores[1],\n",
    "    'roberta_pos' : scores[2]\n",
    "}\n",
    "print(scores_dict)"
   ]
  },
  {
   "cell_type": "code",
   "execution_count": 110,
   "metadata": {},
   "outputs": [],
   "source": [
    "def polarity_scores_roberta(example):\n",
    "    encoded_text = tokenizer(example, return_tensors='pt')\n",
    "    output = model(**encoded_text)\n",
    "    scores = output[0][0].detach().numpy()\n",
    "    scores = softmax(scores)\n",
    "    scores_dict = {\n",
    "        'roberta_neg' : scores[0],\n",
    "        'roberta_neu' : scores[1],\n",
    "        'roberta_pos' : scores[2]\n",
    "    }\n",
    "    return scores_dict"
   ]
  },
  {
   "cell_type": "code",
   "execution_count": 113,
   "metadata": {},
   "outputs": [
    {
     "name": "stderr",
     "output_type": "stream",
     "text": [
      "100%|██████████| 41/41 [00:55<00:00,  1.34s/it]\n"
     ]
    }
   ],
   "source": [
    "res = {}\n",
    "for i, row in tqdm(df.iterrows(), total=len(df)):\n",
    "    try:\n",
    "        text = row['Review']\n",
    "        myid = row['Stars']\n",
    "        vader_result = sia.polarity_scores(text)\n",
    "        vader_result_rename = {}\n",
    "        for key, value in vader_result.items():\n",
    "            vader_result_rename[f\"vader_{key}\"] = value\n",
    "        roberta_result = polarity_scores_roberta(text)\n",
    "        both = {**vader_result_rename, **roberta_result}\n",
    "        res[myid] = both\n",
    "    except RuntimeError:\n",
    "        print(f'Broke for id {myid}')"
   ]
  },
  {
   "cell_type": "code",
   "execution_count": 125,
   "metadata": {},
   "outputs": [],
   "source": [
    "results_df = pd.DataFrame(res).T\n",
    "results_df = results_df.reset_index().rename(columns={'index':'Stars'})\n",
    "results_df = results_df.merge(df, how='left')"
   ]
  },
  {
   "attachments": {},
   "cell_type": "markdown",
   "metadata": {},
   "source": [
    "Compare Scores between models"
   ]
  },
  {
   "cell_type": "code",
   "execution_count": 126,
   "metadata": {},
   "outputs": [
    {
     "data": {
      "text/plain": [
       "Index(['Stars', 'vader_neg', 'vader_neu', 'vader_pos', 'vader_compound',\n",
       "       'roberta_neg', 'roberta_neu', 'roberta_pos', 'Date', 'Review'],\n",
       "      dtype='object')"
      ]
     },
     "execution_count": 126,
     "metadata": {},
     "output_type": "execute_result"
    }
   ],
   "source": [
    "results_df.columns"
   ]
  },
  {
   "attachments": {},
   "cell_type": "markdown",
   "metadata": {},
   "source": [
    "Step 3. Combine and compare"
   ]
  },
  {
   "cell_type": "code",
   "execution_count": 127,
   "metadata": {},
   "outputs": [
    {
     "data": {
      "image/png": "[encoded data removed]",
      "text/plain": [
       "<Figure size 1558.88x1500 with 42 Axes>"
      ]
     },
     "metadata": {},
     "output_type": "display_data"
    }
   ],
   "source": [
    "sns.pairplot(data=results_df,\n",
    "             vars=['vader_neg', 'vader_neu', 'vader_pos',\n",
    "                  'roberta_neg', 'roberta_neu', 'roberta_pos'],\n",
    "            hue='Stars',\n",
    "            palette='tab10')\n",
    "plt.show()"
   ]
  },
  {
   "attachments": {},
   "cell_type": "markdown",
   "metadata": {},
   "source": [
    "Step 4: Review Examples:\n",
    "Positive 1-Star and Negative 5-Star Reviews\n",
    "Lets look at some examples where the model scoring and review score differ the most."
   ]
  },
  {
   "cell_type": "code",
   "execution_count": 148,
   "metadata": {},
   "outputs": [
    {
     "data": {
      "text/plain": [
       "\"We waited in the restaurant for our carryout pizza, so it was fresh and hot, but the taste was so bad that we couldn't even finish :(\""
      ]
     },
     "execution_count": 148,
     "metadata": {},
     "output_type": "execute_result"
    }
   ],
   "source": [
    "#Stars = 3 because no 1 star was giving even though lowest rating is 3 stars. roberta and vader results are equal.  but not to much data to really run...\n",
    "\n",
    "\n",
    "results_df.query('Stars == 3') \\\n",
    "    .sort_values('roberta_pos', ascending=False)['Review'].values[0]"
   ]
  },
  {
   "cell_type": "code",
   "execution_count": 151,
   "metadata": {},
   "outputs": [
    {
     "data": {
      "text/plain": [
       "\"We waited in the restaurant for our carryout pizza, so it was fresh and hot, but the taste was so bad that we couldn't even finish :(\""
      ]
     },
     "execution_count": 151,
     "metadata": {},
     "output_type": "execute_result"
    }
   ],
   "source": [
    "results_df.query('Stars == 3') \\\n",
    "    .sort_values('vader_pos', ascending=False)['Review'].values[0]"
   ]
  },
  {
   "cell_type": "code",
   "execution_count": null,
   "metadata": {},
   "outputs": [],
   "source": []
  }
 ],
 "metadata": {
  "kernelspec": {
   "display_name": "Python 3",
   "language": "python",
   "name": "python3"
  },
  "language_info": {
   "codemirror_mode": {
    "name": "ipython",
    "version": 3
   },
   "file_extension": ".py",
   "mimetype": "text/x-python",
   "name": "python",
   "nbconvert_exporter": "python",
   "pygments_lexer": "ipython3",
   "version": "3.9.16"
  },
  "orig_nbformat": 4,
  "vscode": {
   "interpreter": {
    "hash": "0affe5c182f67e84eeced7e1496dd350747a01d78e538d239066fa1a96963f2f"
   }
  }
 },
 "nbformat": 4,
 "nbformat_minor": 2
}
